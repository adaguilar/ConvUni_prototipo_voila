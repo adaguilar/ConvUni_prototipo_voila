{
 "cells": [
  {
   "cell_type": "markdown",
   "metadata": {},
   "source": [
    "# Ejemplo Cinemática"
   ]
  },
  {
   "cell_type": "markdown",
   "metadata": {},
   "source": [
    "Se llama _velocidad_ $v$ al cociente entre la distancia recorrida $d$ y el _tiempo_ empleado en recorrerla $t$.\n",
    "\n",
    "$$\n",
    "\\begin{aligned}\n",
    "v = \\frac{d}{t}\n",
    "\\end{aligned}\n",
    "$$\n",
    "\n",
    "Por ejemplo, si un caminante recorre dos metros ($2 [m]$) en un segundo ($1 [s]$)"
   ]
  },
  {
   "cell_type": "code",
   "execution_count": 3,
   "metadata": {},
   "outputs": [
    {
     "data": {
      "application/vnd.jupyter.widget-view+json": {
       "model_id": "3337a9ebe8584bb1847994ba69f3826a",
       "version_major": 2,
       "version_minor": 0
      },
      "text/plain": [
       "Image(value=b'\\x89PNG\\r\\n\\x1a\\n\\x00\\x00\\x00\\rIHDR\\x00\\x00\\x01\\xf1\\x00\\x00\\x00\\x9a\\x08\\x02\\x00\\x00\\x006\\x14\\xe6…"
      ]
     },
     "metadata": {},
     "output_type": "display_data"
    }
   ],
   "source": [
    "import ipywidgets as widgets\n",
    "from ipywidgets import interact, interactive, fixed, interact_manual, FloatText\n",
    "\n",
    "\n",
    "file = open(\"Caminante.png\", \"rb\")\n",
    "image = file.read()\n",
    "widgets.Image(\n",
    "    value=image,\n",
    "    format='png',\n",
    "    width=497,\n",
    "    height=154,\n",
    ")"
   ]
  },
  {
   "cell_type": "markdown",
   "metadata": {},
   "source": [
    "$$\n",
    "v = \\frac{2 [m]}{1 [s]} = 2 [m/s]\n",
    "$$"
   ]
  },
  {
   "cell_type": "markdown",
   "metadata": {},
   "source": [
    "## Unidades de velocidad"
   ]
  },
  {
   "cell_type": "markdown",
   "metadata": {},
   "source": [
    "Las unidades de velocidad se obtienen como el cociente entre la unidad utilizada para la distancia y la unidad utilizada para tiempo.\n",
    "Algunos ejemplos son _kilómetros por hora_ $\\frac{km}{h}$, _metros por segundo_ $\\frac{m}{s}$ y _millas por hora_ $\\frac{mi}{h}$ (esta última forjada en el Monte del Destino para azotar a generaciones de estudiantes de ingeniería).\n",
    "Es posible convertir valores de velocidad en una unidad dada a otra, como se muestra a continuación."
   ]
  },
  {
   "cell_type": "code",
   "execution_count": 4,
   "metadata": {},
   "outputs": [
    {
     "data": {
      "application/vnd.jupyter.widget-view+json": {
       "model_id": "66548a305b514509bbea66d405912c56",
       "version_major": 2,
       "version_minor": 0
      },
      "text/plain": [
       "interactive(children=(FloatText(value=2.0, description='Distancia', step=0.1), FloatText(value=1.0, descriptio…"
      ]
     },
     "metadata": {},
     "output_type": "display_data"
    },
    {
     "data": {
      "application/vnd.jupyter.widget-view+json": {
       "model_id": "d5f94ae0883a4871be465ef04b09b7dd",
       "version_major": 2,
       "version_minor": 0
      },
      "text/plain": [
       "Text(value='2.0 m/s', description='Velocidad:')"
      ]
     },
     "metadata": {},
     "output_type": "display_data"
    },
    {
     "data": {
      "application/vnd.jupyter.widget-view+json": {
       "model_id": "61b7e42e659f4c72b4c9caf0db56b6e8",
       "version_major": 2,
       "version_minor": 0
      },
      "text/plain": [
       "Text(value='2.0 m/s', description='Velocidad convertida:')"
      ]
     },
     "metadata": {},
     "output_type": "display_data"
    },
    {
     "data": {
      "application/vnd.jupyter.widget-view+json": {
       "model_id": "06bc4dd6250543e2a8be3507228c7967",
       "version_major": 2,
       "version_minor": 0
      },
      "text/plain": [
       "HBox(children=(Label(value='$2.0 m/s$'),))"
      ]
     },
     "metadata": {},
     "output_type": "display_data"
    }
   ],
   "source": [
    "WidVEnt = widgets.Text(value='...', description='Velocidad:', disabled=False)\n",
    "WidVSal = widgets.Text(value='...', description='Velocidad convertida:', disabled=False)\n",
    "\n",
    "class ContRes:\n",
    "    pass\n",
    "\n",
    "ArgSal = ContRes()\n",
    "ArgSal.VEnt = ()\n",
    "ArgSal.VSal = ()\n",
    "ArgSal.UniEnt = ()\n",
    "ArgSal.UniSal = ()\n",
    "\n",
    "def FConvUni(d, t, UniEnt, UniSal):\n",
    "    VEnt = d/t;\n",
    "    if UniSal == 'm/s':\n",
    "        if UniEnt== 'm/s':\n",
    "            VSal = VEnt\n",
    "        elif UniEnt== 'km/h':\n",
    "            VSal = VEnt *1000/3600\n",
    "        elif UniEnt== 'mi/h':\n",
    "            VSal = VEnt * (1000/3600) / 0.62137\n",
    "            \n",
    "    if UniSal == 'km/h':\n",
    "        if UniEnt== 'm/s':\n",
    "            VSal = VEnt *3600/1000\n",
    "        elif UniEnt== 'km/h':\n",
    "            VSal = VEnt\n",
    "        elif UniEnt== 'mi/h':\n",
    "            VSal = VEnt / 0.62137\n",
    "            \n",
    "    if UniSal == 'mi/h':\n",
    "        if UniEnt== 'm/s':\n",
    "            VSal = VEnt * (3600/1000) * (0.62137)\n",
    "        elif UniEnt== 'km/h':\n",
    "            VSal = VEnt * 0.62137\n",
    "        elif UniEnt== 'mi/h':\n",
    "            VSal = VEnt\n",
    "    \n",
    "    WidVEnt.value = str(VEnt) + ' ' + UniEnt\n",
    "    WidVSal.value = str(VSal) + ' ' + UniSal\n",
    "    \n",
    "    #ArgSal = ContRes()\n",
    "    ArgSal.VEnt = VEnt\n",
    "    ArgSal.VSal = VSal\n",
    "    ArgSal.UniEnt = UniEnt\n",
    "    ArgSal.UniSal = UniSal\n",
    "    \n",
    "    return ArgSal\n",
    "\n",
    "InterConvUni = interactive(FConvUni,\n",
    "             d = FloatText(2.0, step = 0.1, description = \"Distancia\"),\n",
    "             t = FloatText(1.0, step = 0.1, min = 0.001, description=\"Tiempo\"),\n",
    "             UniEnt = widgets.Dropdown(options = ['m/s', 'km/h', 'mi/h'], value = 'm/s', description=\"Convertir de:\"),\n",
    "             UniSal = widgets.Dropdown(options = ['m/s', 'km/h', 'mi/h'], value = 'm/s', description=\"a:\"));\n",
    "display(InterConvUni)\n",
    "display(WidVEnt)\n",
    "display(WidVSal)\n",
    "\n",
    "ArgSal2 = ContRes()\n",
    "\n",
    "def FTxtExpConv(VEnt, UniEnt):\n",
    "    Txt = '$' + str(VEnt) + ' ' + UniEnt + '$'\n",
    "    ArgSal2.Txt = Txt\n",
    "\n",
    "FTxtExpConv(ArgSal.VEnt, ArgSal.UniEnt)\n",
    "WidExpConv = widgets.HBox([widgets.Label(value=ArgSal2.Txt)])\n",
    "\n",
    "display(WidExpConv)"
   ]
  }
 ],
 "metadata": {
  "kernelspec": {
   "display_name": "Python 3",
   "language": "python",
   "name": "python3"
  },
  "language_info": {
   "codemirror_mode": {
    "name": "ipython",
    "version": 3
   },
   "file_extension": ".py",
   "mimetype": "text/x-python",
   "name": "python",
   "nbconvert_exporter": "python",
   "pygments_lexer": "ipython3",
   "version": "3.7.3"
  }
 },
 "nbformat": 4,
 "nbformat_minor": 4
}
